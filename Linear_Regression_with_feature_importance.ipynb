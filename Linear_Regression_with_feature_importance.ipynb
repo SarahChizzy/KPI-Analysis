{
  "nbformat": 4,
  "nbformat_minor": 0,
  "metadata": {
    "colab": {
      "provenance": [],
      "authorship_tag": "ABX9TyMo4uq2wSPH2hk7DTTlAII2",
      "include_colab_link": true
    },
    "kernelspec": {
      "name": "python3",
      "display_name": "Python 3"
    },
    "language_info": {
      "name": "python"
    }
  },
  "cells": [
    {
      "cell_type": "markdown",
      "metadata": {
        "id": "view-in-github",
        "colab_type": "text"
      },
      "source": [
        "<a href=\"https://colab.research.google.com/github/SarahChizzy/KPI-Analysis/blob/main/Linear_Regression_with_feature_importance.ipynb\" target=\"_parent\"><img src=\"https://colab.research.google.com/assets/colab-badge.svg\" alt=\"Open In Colab\"/></a>"
      ]
    },
    {
      "cell_type": "code",
      "execution_count": null,
      "metadata": {
        "id": "YfoUCEmTOU2R"
      },
      "outputs": [],
      "source": [
        "from sklearn.linear_model import LinearRegression\n",
        "import pandas as pd\n",
        "import numpy as np\n",
        "import matplotlib.pyplot as plt\n",
        "from sklearn.preprocessing import LabelEncoder\n",
        "import seaborn as sns\n",
        "from sklearn.model_selection import train_test_split\n",
        "from sklearn.metrics import mean_absolute_error, mean_squared_error, r2_score"
      ]
    },
    {
      "cell_type": "code",
      "source": [
        "A = \"/content/Procurement KPI Analysis Dataset.csv\"\n",
        "df = pd.read_csv(A)\n",
        "print(df)"
      ],
      "metadata": {
        "colab": {
          "base_uri": "https://localhost:8080/"
        },
        "id": "Di0rZNahOo4d",
        "outputId": "73a2c1e5-0684-43c5-cbb6-5a8d191de740"
      },
      "execution_count": null,
      "outputs": [
        {
          "output_type": "stream",
          "name": "stdout",
          "text": [
            "        PO_ID         Supplier  Order_Date Delivery_Date    Item_Category  \\\n",
            "0    PO-00001        Alpha_Inc  2023-10-17    2023-10-25  Office Supplies   \n",
            "1    PO-00002  Delta_Logistics  2022-04-25    2022-05-05  Office Supplies   \n",
            "2    PO-00003         Gamma_Co  2022-01-26    2022-02-15              MRO   \n",
            "3    PO-00004    Beta_Supplies  2022-10-09    2022-10-28        Packaging   \n",
            "4    PO-00005  Delta_Logistics  2022-09-08    2022-09-20    Raw Materials   \n",
            "..        ...              ...         ...           ...              ...   \n",
            "772  PO-00773  Delta_Logistics  2023-02-11    2023-02-20      Electronics   \n",
            "773  PO-00774        Alpha_Inc  2022-07-23           NaN  Office Supplies   \n",
            "774  PO-00775         Gamma_Co  2022-03-19    2022-04-07    Raw Materials   \n",
            "775  PO-00776    Beta_Supplies  2023-08-30    2023-09-11              MRO   \n",
            "776  PO-00777    Beta_Supplies  2023-12-09    2023-12-11  Office Supplies   \n",
            "\n",
            "    Order_Status  Quantity  Unit_Price  Negotiated_Price  Defective_Units  \\\n",
            "0      Cancelled      1176       20.13             17.81              NaN   \n",
            "1      Delivered      1509       39.32             37.34            235.0   \n",
            "2      Delivered       910       95.51             92.26             41.0   \n",
            "3      Delivered      1344       99.85             95.52            112.0   \n",
            "4      Delivered      1180       64.07             60.53            171.0   \n",
            "..           ...       ...         ...               ...              ...   \n",
            "772    Delivered      1685       43.42             42.24            262.0   \n",
            "773    Delivered       445       68.94             60.35              7.0   \n",
            "774    Delivered       494       94.82             81.89             29.0   \n",
            "775    Delivered      1306       21.05             18.27            128.0   \n",
            "776    Delivered      1988      105.20             93.23            187.0   \n",
            "\n",
            "    Compliance  \n",
            "0          Yes  \n",
            "1          Yes  \n",
            "2          Yes  \n",
            "3          Yes  \n",
            "4           No  \n",
            "..         ...  \n",
            "772        Yes  \n",
            "773        Yes  \n",
            "774        Yes  \n",
            "775        Yes  \n",
            "776        Yes  \n",
            "\n",
            "[777 rows x 11 columns]\n"
          ]
        }
      ]
    },
    {
      "cell_type": "code",
      "source": [
        "print(df.isnull().sum())"
      ],
      "metadata": {
        "colab": {
          "base_uri": "https://localhost:8080/"
        },
        "id": "SWNpMwVLPYlE",
        "outputId": "b5dbccf9-c100-4080-f85c-8045ef0cff22"
      },
      "execution_count": null,
      "outputs": [
        {
          "output_type": "stream",
          "name": "stdout",
          "text": [
            "PO_ID                 0\n",
            "Supplier              0\n",
            "Order_Date            0\n",
            "Delivery_Date        87\n",
            "Item_Category         0\n",
            "Order_Status          0\n",
            "Quantity              0\n",
            "Unit_Price            0\n",
            "Negotiated_Price      0\n",
            "Defective_Units     136\n",
            "Compliance            0\n",
            "dtype: int64\n"
          ]
        }
      ]
    },
    {
      "cell_type": "code",
      "source": [
        "from sklearn.impute import SimpleImputer\n",
        "imputer = SimpleImputer(strategy='mean')\n",
        "df['Defective_Units'] = imputer.fit_transform(df[['Defective_Units']])\n",
        "print(df.isnull().sum())"
      ],
      "metadata": {
        "colab": {
          "base_uri": "https://localhost:8080/"
        },
        "id": "6Z9UVCVqPh4e",
        "outputId": "8870e8f8-fb91-42ec-9e58-faf05129c685"
      },
      "execution_count": null,
      "outputs": [
        {
          "output_type": "stream",
          "name": "stdout",
          "text": [
            "PO_ID                0\n",
            "Supplier             0\n",
            "Order_Date           0\n",
            "Delivery_Date       87\n",
            "Item_Category        0\n",
            "Order_Status         0\n",
            "Quantity             0\n",
            "Unit_Price           0\n",
            "Negotiated_Price     0\n",
            "Defective_Units      0\n",
            "Compliance           0\n",
            "dtype: int64\n"
          ]
        }
      ]
    },
    {
      "cell_type": "code",
      "source": [
        "df.dtypes"
      ],
      "metadata": {
        "colab": {
          "base_uri": "https://localhost:8080/",
          "height": 429
        },
        "id": "nMdLj1hSQsTl",
        "outputId": "acef1c63-39c1-4403-efc7-3be20c1b188f"
      },
      "execution_count": null,
      "outputs": [
        {
          "output_type": "execute_result",
          "data": {
            "text/plain": [
              "PO_ID                object\n",
              "Supplier             object\n",
              "Order_Date           object\n",
              "Delivery_Date        object\n",
              "Item_Category        object\n",
              "Order_Status         object\n",
              "Quantity              int64\n",
              "Unit_Price          float64\n",
              "Negotiated_Price    float64\n",
              "Defective_Units     float64\n",
              "Compliance           object\n",
              "dtype: object"
            ],
            "text/html": [
              "<div>\n",
              "<style scoped>\n",
              "    .dataframe tbody tr th:only-of-type {\n",
              "        vertical-align: middle;\n",
              "    }\n",
              "\n",
              "    .dataframe tbody tr th {\n",
              "        vertical-align: top;\n",
              "    }\n",
              "\n",
              "    .dataframe thead th {\n",
              "        text-align: right;\n",
              "    }\n",
              "</style>\n",
              "<table border=\"1\" class=\"dataframe\">\n",
              "  <thead>\n",
              "    <tr style=\"text-align: right;\">\n",
              "      <th></th>\n",
              "      <th>0</th>\n",
              "    </tr>\n",
              "  </thead>\n",
              "  <tbody>\n",
              "    <tr>\n",
              "      <th>PO_ID</th>\n",
              "      <td>object</td>\n",
              "    </tr>\n",
              "    <tr>\n",
              "      <th>Supplier</th>\n",
              "      <td>object</td>\n",
              "    </tr>\n",
              "    <tr>\n",
              "      <th>Order_Date</th>\n",
              "      <td>object</td>\n",
              "    </tr>\n",
              "    <tr>\n",
              "      <th>Delivery_Date</th>\n",
              "      <td>object</td>\n",
              "    </tr>\n",
              "    <tr>\n",
              "      <th>Item_Category</th>\n",
              "      <td>object</td>\n",
              "    </tr>\n",
              "    <tr>\n",
              "      <th>Order_Status</th>\n",
              "      <td>object</td>\n",
              "    </tr>\n",
              "    <tr>\n",
              "      <th>Quantity</th>\n",
              "      <td>int64</td>\n",
              "    </tr>\n",
              "    <tr>\n",
              "      <th>Unit_Price</th>\n",
              "      <td>float64</td>\n",
              "    </tr>\n",
              "    <tr>\n",
              "      <th>Negotiated_Price</th>\n",
              "      <td>float64</td>\n",
              "    </tr>\n",
              "    <tr>\n",
              "      <th>Defective_Units</th>\n",
              "      <td>float64</td>\n",
              "    </tr>\n",
              "    <tr>\n",
              "      <th>Compliance</th>\n",
              "      <td>object</td>\n",
              "    </tr>\n",
              "  </tbody>\n",
              "</table>\n",
              "</div><br><label><b>dtype:</b> object</label>"
            ]
          },
          "metadata": {},
          "execution_count": 38
        }
      ]
    },
    {
      "cell_type": "code",
      "source": [
        "le=LabelEncoder()\n",
        "df['Supplier'] = le.fit_transform(df['Supplier'])\n",
        "df['Item_Category'] = le.fit_transform(df['Item_Category'])\n",
        "df['Order_Status'] = le.fit_transform(df['Order_Status'])\n",
        "df['Compliance'] = le.fit_transform(df['Compliance'])\n",
        "\n",
        "X = df[[\"Supplier\", \"Item_Category\", \"Order_Status\", \"Quantity\", \"Unit_Price\", \"Defective_Units\", \"Compliance\"]]\n",
        "y = df['Negotiated_Price']\n",
        "\n",
        "X_train, X_test, y_train, y_test = train_test_split(X, y, test_size=0.3, random_state=42)"
      ],
      "metadata": {
        "id": "TVmYkH2kSLTq"
      },
      "execution_count": null,
      "outputs": []
    },
    {
      "cell_type": "code",
      "source": [
        "LM = LinearRegression()\n",
        "LM.fit(X_train, y_train)\n",
        "y_pred = LM.predict(X_test)"
      ],
      "metadata": {
        "id": "6B0RP5lhTUaK"
      },
      "execution_count": null,
      "outputs": []
    },
    {
      "cell_type": "code",
      "source": [
        "print(\"Mean Absolute Error:\", mean_absolute_error(y_test, y_pred))\n",
        "print(\"Mean Squared Error:\", mean_squared_error(y_test, y_pred))\n",
        "print(\"R2 Score:\", r2_score(y_test, y_pred))"
      ],
      "metadata": {
        "colab": {
          "base_uri": "https://localhost:8080/"
        },
        "id": "wbxid9s3WZpg",
        "outputId": "d3171c77-873c-4430-82fd-359b3977cff8"
      },
      "execution_count": null,
      "outputs": [
        {
          "output_type": "stream",
          "name": "stdout",
          "text": [
            "Mean Absolute Error: 2.2631899230769412\n",
            "Mean Squared Error: 8.180769237213958\n",
            "R2 Score: 0.9885319781289819\n"
          ]
        }
      ]
    },
    {
      "cell_type": "code",
      "source": [
        "sns.scatterplot(x=y_test, y=y_pred)\n",
        "plt.xlabel('Actual Values')\n",
        "plt.ylabel('Predicted Values')"
      ],
      "metadata": {
        "colab": {
          "base_uri": "https://localhost:8080/",
          "height": 466
        },
        "id": "zpfGbIC4WUbJ",
        "outputId": "230e54f7-9b07-4f34-c2e5-a06a79cd8244"
      },
      "execution_count": null,
      "outputs": [
        {
          "output_type": "execute_result",
          "data": {
            "text/plain": [
              "Text(0, 0.5, 'Predicted Values')"
            ]
          },
          "metadata": {},
          "execution_count": 42
        },
        {
          "output_type": "display_data",
          "data": {
            "text/plain": [
              "<Figure size 640x480 with 1 Axes>"
            ],
            "image/png": "[encoded data removed]"
          },
          "metadata": {}
        }
      ]
    },
    {
      "cell_type": "code",
      "source": [
        "coefficients= LM.coef_\n",
        "intercept = LM.intercept_\n",
        "coefficients_df = pd.DataFrame({\"Feature\":X.columns, \"coefficients\":LM.coef_})\n",
        "print(\"intercept:\", intercept)\n",
        "print(coefficients_df)\n",
        "coefficients_df[\"Abs_coefficients\"] = coefficients_df[\"coefficients\"].abs()\n",
        "coefficients_df.sort_values(by=\"Abs_coefficients\", ascending=False, inplace=True)"
      ],
      "metadata": {
        "colab": {
          "base_uri": "https://localhost:8080/"
        },
        "id": "RKWCWTVUWYAE",
        "outputId": "56ddfe4e-f188-4a85-cf02-d6c110d49e0b"
      },
      "execution_count": null,
      "outputs": [
        {
          "output_type": "stream",
          "name": "stdout",
          "text": [
            "intercept: 0.2653472351662316\n",
            "           Feature  coefficients\n",
            "0         Supplier      0.014055\n",
            "1    Item_Category     -0.010027\n",
            "2     Order_Status     -0.184523\n",
            "3         Quantity      0.000185\n",
            "4       Unit_Price      0.922714\n",
            "5  Defective_Units     -0.002266\n",
            "6       Compliance     -0.162033\n"
          ]
        }
      ]
    },
    {
      "cell_type": "code",
      "source": [
        "#feature importance\n",
        "coefficients_df[\"Abs_coefficients\"] = coefficients_df[\"coefficients\"].abs()\n",
        "coefficients_df.sort_values(by=\"Abs_coefficients\", ascending=False, inplace=True)\n",
        "print(coefficients_df)\n"
      ],
      "metadata": {
        "colab": {
          "base_uri": "https://localhost:8080/"
        },
        "id": "USVRbJTZbgFr",
        "outputId": "d9d8e32e-e01e-4987-a97a-ce53fbf28935"
      },
      "execution_count": null,
      "outputs": [
        {
          "output_type": "stream",
          "name": "stdout",
          "text": [
            "           Feature  coefficients  Abs_coefficients\n",
            "4       Unit_Price      0.922714          0.922714\n",
            "2     Order_Status     -0.184523          0.184523\n",
            "6       Compliance     -0.162033          0.162033\n",
            "0         Supplier      0.014055          0.014055\n",
            "1    Item_Category     -0.010027          0.010027\n",
            "5  Defective_Units     -0.002266          0.002266\n",
            "3         Quantity      0.000185          0.000185\n"
          ]
        }
      ]
    },
    {
      "cell_type": "code",
      "source": [],
      "metadata": {
        "id": "0ISk4uMkcMmm"
      },
      "execution_count": null,
      "outputs": []
    }
  ]
}